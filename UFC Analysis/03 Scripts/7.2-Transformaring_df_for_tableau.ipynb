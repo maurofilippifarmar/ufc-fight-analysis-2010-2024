{
 "cells": [
  {
   "cell_type": "code",
   "execution_count": 1,
   "id": "bdc3730d",
   "metadata": {},
   "outputs": [],
   "source": [
    "# Imports\n",
    "import os\n",
    "import pandas as pd\n",
    "\n",
    "\n",
    "# Set your local path\n",
    "path = r\"D:\\0 - Data Analytics\\6 - Advanced Analytics & Dashboard Design\\UFC Analysis\"\n",
    "\n",
    "# Load the cleaned dataset\n",
    "ufc_df = pd.read_csv(\n",
    "    os.path.join(path, \"02 Data\", \"Prepared Data\", \"UFC_cleaned_V2.csv\")\n",
    ")"
   ]
  },
  {
   "cell_type": "code",
   "execution_count": 2,
   "id": "3929b895",
   "metadata": {},
   "outputs": [],
   "source": [
    "# Create a working copy of the full dataset\n",
    "ufc_tableau_df = ufc_df.copy()\n",
    "\n",
    "# Convert Date to datetime and extract the Year\n",
    "ufc_tableau_df[\"Date\"] = pd.to_datetime(ufc_tableau_df[\"Date\"], errors=\"coerce\")\n",
    "ufc_tableau_df[\"Year\"] = ufc_tableau_df[\"Date\"].dt.year"
   ]
  },
  {
   "cell_type": "code",
   "execution_count": 3,
   "id": "3519a6dd",
   "metadata": {},
   "outputs": [],
   "source": [
    "# Create a boolean flag for fights that went to decision\n",
    "ufc_tableau_df[\"WentToDecision\"] = ufc_tableau_df[\"Finish\"].str.contains(\n",
    "    \"Decision\", na=False\n",
    ")"
   ]
  },
  {
   "cell_type": "code",
   "execution_count": 4,
   "id": "83d6c031",
   "metadata": {},
   "outputs": [],
   "source": [
    "# Add Fight_ID based on the index (because original data doesn't have it)\n",
    "ufc_tableau_df.reset_index(inplace=True)\n",
    "ufc_tableau_df.rename(columns={\"index\": \"Fight_ID\"}, inplace=True)"
   ]
  },
  {
   "cell_type": "code",
   "execution_count": 5,
   "id": "b8b534ad",
   "metadata": {},
   "outputs": [],
   "source": [
    "columns_needed = [\n",
    "    \"Fight_ID\",\n",
    "    \"Date\",\n",
    "    \"Year\",\n",
    "    \"Location\",\n",
    "    \"Location_Cleaned\",\n",
    "    \"Country\",\n",
    "    \"RedFighter\",\n",
    "    \"BlueFighter\",\n",
    "    \"Winner\",\n",
    "    \"RedOdds\",\n",
    "    \"BlueOdds\",\n",
    "    \"RedStance\",\n",
    "    \"BlueStance\",\n",
    "    \"RedReachCms\",\n",
    "    \"BlueReachCms\",\n",
    "    \"RedHeightCms\",\n",
    "    \"BlueHeightCms\",\n",
    "    \"RedAge\",\n",
    "    \"BlueAge\",\n",
    "    \"WeightClass\",\n",
    "    \"TitleBout\",\n",
    "    \"Gender\",\n",
    "    \"Finish\",\n",
    "    \"FinishDetails\",\n",
    "    \"FinishRound\",\n",
    "    \"TotalFightTimeSecs\",\n",
    "    \"WentToDecision\",\n",
    "    \"RedAvgSigStrLanded\",\n",
    "    \"BlueAvgSigStrLanded\",\n",
    "    \"RedAvgSigStrPct\",\n",
    "    \"BlueAvgSigStrPct\",\n",
    "]"
   ]
  },
  {
   "cell_type": "code",
   "execution_count": 6,
   "id": "ca08d34e",
   "metadata": {},
   "outputs": [],
   "source": [
    "# Keep only the relevant columns and drop rows missing Date or Fight Time\n",
    "ufc_tableau_df = ufc_tableau_df[columns_needed].dropna(\n",
    "    subset=[\"Date\", \"TotalFightTimeSecs\"]\n",
    ")"
   ]
  },
  {
   "cell_type": "code",
   "execution_count": 7,
   "id": "cc01a846",
   "metadata": {},
   "outputs": [],
   "source": [
    "# Export the new xlsx to work on tableau\n",
    "ufc_tableau_df.to_excel(\n",
    "    os.path.join(path, \"02 Data\", \"Prepared Data\", \"UFC_tableau_V2.xlsx\"), index=False\n",
    ")"
   ]
  },
  {
   "cell_type": "code",
   "execution_count": null,
   "id": "c57ae15f",
   "metadata": {},
   "outputs": [],
   "source": []
  }
 ],
 "metadata": {
  "kernelspec": {
   "display_name": "base",
   "language": "python",
   "name": "python3"
  },
  "language_info": {
   "codemirror_mode": {
    "name": "ipython",
    "version": 3
   },
   "file_extension": ".py",
   "mimetype": "text/x-python",
   "name": "python",
   "nbconvert_exporter": "python",
   "pygments_lexer": "ipython3",
   "version": "3.12.3"
  }
 },
 "nbformat": 4,
 "nbformat_minor": 5
}
