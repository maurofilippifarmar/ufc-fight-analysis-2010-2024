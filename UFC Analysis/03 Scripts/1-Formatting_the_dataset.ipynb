{
 "cells": [
  {
   "cell_type": "markdown",
   "metadata": {},
   "source": [
    "## Import and clean dataset"
   ]
  },
  {
   "cell_type": "code",
   "execution_count": 1,
   "metadata": {},
   "outputs": [],
   "source": [
    "import pandas as pd\n",
    "import numpy as np\n",
    "import os\n",
    "\n",
    "\n",
    "path = r\"D:\\0 - Data Analytics\\6 - Advanced Analytics & Dashboard Design\\UFC Analysis\"\n",
    "\n",
    "# import the dataframe\n",
    "ufc_df = pd.read_csv(os.path.join(path, \"02 Data\", \"Original Data\", \"ufc-master.csv\"))"
   ]
  },
  {
   "cell_type": "code",
   "execution_count": 2,
   "metadata": {},
   "outputs": [
    {
     "data": {
      "text/plain": [
       "<bound method DataFrame.info of              RedFighter        BlueFighter  RedOdds  BlueOdds  \\\n",
       "0     Alexandre Pantoja        Kai Asakura   -250.0     215.0   \n",
       "1     Shavkat Rakhmonov  Ian Machado Garry   -210.0     295.0   \n",
       "2            Ciryl Gane   Alexander Volkov   -380.0     300.0   \n",
       "3        Bryce Mitchell        Kron Gracie   -950.0     625.0   \n",
       "4         Nate Landwehr         Dooho Choi   -130.0     110.0   \n",
       "...                 ...                ...      ...       ...   \n",
       "6523       Duane Ludwig      Darren Elkins   -155.0     135.0   \n",
       "6524        John Howard     Daniel Roberts   -210.0     175.0   \n",
       "6525     Brendan Schaub      Chase Gormley   -260.0     220.0   \n",
       "6526        Mike Pierce      Julio Paulino   -420.0     335.0   \n",
       "6527       Eric Schafer        Jason Brilz    140.0    -160.0   \n",
       "\n",
       "      RedExpectedValue  BlueExpectedValue        Date  \\\n",
       "0              40.0000              215.0  2024-12-07   \n",
       "1              47.6190              295.0  2024-12-07   \n",
       "2              26.3158              300.0  2024-12-07   \n",
       "3              10.5263              625.0  2024-12-07   \n",
       "4              76.9231              110.0  2024-12-07   \n",
       "...                ...                ...         ...   \n",
       "6523           64.5161              135.0  2010-03-21   \n",
       "6524           47.6190              175.0  2010-03-21   \n",
       "6525           38.4615              220.0  2010-03-21   \n",
       "6526           23.8095              335.0  2010-03-21   \n",
       "6527          140.0000               62.5  2010-03-21   \n",
       "\n",
       "                       Location Country Winner  ...     FinishDetails  \\\n",
       "0        Las Vegas, Nevada, USA     USA    Red  ...  Rear Naked Choke   \n",
       "1        Las Vegas, Nevada, USA     USA    Red  ...               NaN   \n",
       "2        Las Vegas, Nevada, USA     USA    Red  ...               NaN   \n",
       "3        Las Vegas, Nevada, USA     USA    Red  ...            Elbows   \n",
       "4        Las Vegas, Nevada, USA     USA   Blue  ...            Elbows   \n",
       "...                         ...     ...    ...  ...               ...   \n",
       "6523  Broomfield, Colorado, USA     USA   Blue  ...               NaN   \n",
       "6524  Broomfield, Colorado, USA     USA    Red  ...             Punch   \n",
       "6525  Broomfield, Colorado, USA     USA    Red  ...           Punches   \n",
       "6526  Broomfield, Colorado, USA     USA    Red  ...               NaN   \n",
       "6527  Broomfield, Colorado, USA     USA   Blue  ...               NaN   \n",
       "\n",
       "     FinishRound FinishRoundTime  TotalFightTimeSecs  RedDecOdds  BlueDecOdds  \\\n",
       "0            2.0            2:05               425.0       300.0        800.0   \n",
       "1            5.0            5:00              1500.0       250.0        650.0   \n",
       "2            3.0            5:00               900.0      -160.0        450.0   \n",
       "3            3.0            0:39               639.0      -200.0       1100.0   \n",
       "4            3.0            3:21               801.0       275.0        550.0   \n",
       "...          ...             ...                 ...         ...          ...   \n",
       "6523         1.0            0:44                44.0         NaN          NaN   \n",
       "6524         1.0            2:01               121.0         NaN          NaN   \n",
       "6525         1.0            0:47                47.0         NaN          NaN   \n",
       "6526         3.0            5:00               900.0         NaN          NaN   \n",
       "6527         3.0            5:00               900.0         NaN          NaN   \n",
       "\n",
       "      RSubOdds  BSubOdds  RKOOdds  BKOOdds  \n",
       "0        150.0    2500.0    400.0    350.0  \n",
       "1        180.0    3000.0    240.0    700.0  \n",
       "2       1100.0    3000.0    350.0   1100.0  \n",
       "3        380.0    1400.0    500.0   4000.0  \n",
       "4        500.0     700.0    300.0    250.0  \n",
       "...        ...       ...      ...      ...  \n",
       "6523       NaN       NaN      NaN      NaN  \n",
       "6524       NaN       NaN      NaN      NaN  \n",
       "6525       NaN       NaN      NaN      NaN  \n",
       "6526       NaN       NaN      NaN      NaN  \n",
       "6527       NaN       NaN      NaN      NaN  \n",
       "\n",
       "[6528 rows x 118 columns]>"
      ]
     },
     "execution_count": 2,
     "metadata": {},
     "output_type": "execute_result"
    }
   ],
   "source": [
    "# check shape and head using viarables and print\n",
    "ufc_df.info\n",
    "# ufc_df.shape\n",
    "# ufc_df.head()\n"
   ]
  },
  {
   "cell_type": "code",
   "execution_count": 3,
   "metadata": {},
   "outputs": [
    {
     "data": {
      "application/vnd.microsoft.datawrangler.viewer.v0+json": {
       "columns": [
        {
         "name": "index",
         "rawType": "object",
         "type": "string"
        },
        {
         "name": "Missing Values",
         "rawType": "int64",
         "type": "integer"
        }
       ],
       "conversionMethod": "pd.DataFrame",
       "ref": "814359a9-a711-4280-a36a-017572907862",
       "rows": [
        [
         "RedOdds",
         "227"
        ],
        [
         "BlueOdds",
         "226"
        ],
        [
         "RedExpectedValue",
         "227"
        ],
        [
         "BlueExpectedValue",
         "226"
        ],
        [
         "BlueAvgSigStrLanded",
         "930"
        ],
        [
         "BlueAvgSigStrPct",
         "765"
        ],
        [
         "BlueAvgSubAtt",
         "832"
        ],
        [
         "BlueAvgTDLanded",
         "833"
        ],
        [
         "BlueAvgTDPct",
         "842"
        ],
        [
         "BlueStance",
         "3"
        ],
        [
         "RedAvgSigStrLanded",
         "455"
        ],
        [
         "RedAvgSigStrPct",
         "357"
        ],
        [
         "RedAvgSubAtt",
         "357"
        ],
        [
         "RedAvgTDLanded",
         "357"
        ],
        [
         "RedAvgTDPct",
         "367"
        ],
        [
         "EmptyArena",
         "1486"
        ],
        [
         "BMatchWCRank",
         "5328"
        ],
        [
         "RMatchWCRank",
         "4749"
        ],
        [
         "RWFlyweightRank",
         "6432"
        ],
        [
         "RWFeatherweightRank",
         "6519"
        ],
        [
         "RWStrawweightRank",
         "6382"
        ],
        [
         "RWBantamweightRank",
         "6374"
        ],
        [
         "RHeavyweightRank",
         "6342"
        ],
        [
         "RLightHeavyweightRank",
         "6344"
        ],
        [
         "RMiddleweightRank",
         "6346"
        ],
        [
         "RWelterweightRank",
         "6337"
        ],
        [
         "RLightweightRank",
         "6344"
        ],
        [
         "RFeatherweightRank",
         "6351"
        ],
        [
         "RBantamweightRank",
         "6347"
        ],
        [
         "RFlyweightRank",
         "6340"
        ],
        [
         "RPFPRank",
         "6275"
        ],
        [
         "BWFlyweightRank",
         "6455"
        ],
        [
         "BWFeatherweightRank",
         "6527"
        ],
        [
         "BWStrawweightRank",
         "6428"
        ],
        [
         "BWBantamweightRank",
         "6421"
        ],
        [
         "BHeavyweightRank",
         "6380"
        ],
        [
         "BLightHeavyweightRank",
         "6408"
        ],
        [
         "BMiddleweightRank",
         "6391"
        ],
        [
         "BWelterweightRank",
         "6409"
        ],
        [
         "BLightweightRank",
         "6408"
        ],
        [
         "BFeatherweightRank",
         "6404"
        ],
        [
         "BBantamweightRank",
         "6409"
        ],
        [
         "BFlyweightRank",
         "6398"
        ],
        [
         "BPFPRank",
         "6461"
        ],
        [
         "Finish",
         "238"
        ],
        [
         "FinishDetails",
         "3636"
        ],
        [
         "FinishRound",
         "622"
        ],
        [
         "FinishRoundTime",
         "622"
        ],
        [
         "TotalFightTimeSecs",
         "622"
        ],
        [
         "RedDecOdds",
         "1087"
        ]
       ],
       "shape": {
        "columns": 1,
        "rows": 55
       }
      },
      "text/html": [
       "<div>\n",
       "<style scoped>\n",
       "    .dataframe tbody tr th:only-of-type {\n",
       "        vertical-align: middle;\n",
       "    }\n",
       "\n",
       "    .dataframe tbody tr th {\n",
       "        vertical-align: top;\n",
       "    }\n",
       "\n",
       "    .dataframe thead th {\n",
       "        text-align: right;\n",
       "    }\n",
       "</style>\n",
       "<table border=\"1\" class=\"dataframe\">\n",
       "  <thead>\n",
       "    <tr style=\"text-align: right;\">\n",
       "      <th></th>\n",
       "      <th>Missing Values</th>\n",
       "    </tr>\n",
       "  </thead>\n",
       "  <tbody>\n",
       "    <tr>\n",
       "      <th>RedOdds</th>\n",
       "      <td>227</td>\n",
       "    </tr>\n",
       "    <tr>\n",
       "      <th>BlueOdds</th>\n",
       "      <td>226</td>\n",
       "    </tr>\n",
       "    <tr>\n",
       "      <th>RedExpectedValue</th>\n",
       "      <td>227</td>\n",
       "    </tr>\n",
       "    <tr>\n",
       "      <th>BlueExpectedValue</th>\n",
       "      <td>226</td>\n",
       "    </tr>\n",
       "    <tr>\n",
       "      <th>BlueAvgSigStrLanded</th>\n",
       "      <td>930</td>\n",
       "    </tr>\n",
       "    <tr>\n",
       "      <th>BlueAvgSigStrPct</th>\n",
       "      <td>765</td>\n",
       "    </tr>\n",
       "    <tr>\n",
       "      <th>BlueAvgSubAtt</th>\n",
       "      <td>832</td>\n",
       "    </tr>\n",
       "    <tr>\n",
       "      <th>BlueAvgTDLanded</th>\n",
       "      <td>833</td>\n",
       "    </tr>\n",
       "    <tr>\n",
       "      <th>BlueAvgTDPct</th>\n",
       "      <td>842</td>\n",
       "    </tr>\n",
       "    <tr>\n",
       "      <th>BlueStance</th>\n",
       "      <td>3</td>\n",
       "    </tr>\n",
       "    <tr>\n",
       "      <th>RedAvgSigStrLanded</th>\n",
       "      <td>455</td>\n",
       "    </tr>\n",
       "    <tr>\n",
       "      <th>RedAvgSigStrPct</th>\n",
       "      <td>357</td>\n",
       "    </tr>\n",
       "    <tr>\n",
       "      <th>RedAvgSubAtt</th>\n",
       "      <td>357</td>\n",
       "    </tr>\n",
       "    <tr>\n",
       "      <th>RedAvgTDLanded</th>\n",
       "      <td>357</td>\n",
       "    </tr>\n",
       "    <tr>\n",
       "      <th>RedAvgTDPct</th>\n",
       "      <td>367</td>\n",
       "    </tr>\n",
       "    <tr>\n",
       "      <th>EmptyArena</th>\n",
       "      <td>1486</td>\n",
       "    </tr>\n",
       "    <tr>\n",
       "      <th>BMatchWCRank</th>\n",
       "      <td>5328</td>\n",
       "    </tr>\n",
       "    <tr>\n",
       "      <th>RMatchWCRank</th>\n",
       "      <td>4749</td>\n",
       "    </tr>\n",
       "    <tr>\n",
       "      <th>RWFlyweightRank</th>\n",
       "      <td>6432</td>\n",
       "    </tr>\n",
       "    <tr>\n",
       "      <th>RWFeatherweightRank</th>\n",
       "      <td>6519</td>\n",
       "    </tr>\n",
       "    <tr>\n",
       "      <th>RWStrawweightRank</th>\n",
       "      <td>6382</td>\n",
       "    </tr>\n",
       "    <tr>\n",
       "      <th>RWBantamweightRank</th>\n",
       "      <td>6374</td>\n",
       "    </tr>\n",
       "    <tr>\n",
       "      <th>RHeavyweightRank</th>\n",
       "      <td>6342</td>\n",
       "    </tr>\n",
       "    <tr>\n",
       "      <th>RLightHeavyweightRank</th>\n",
       "      <td>6344</td>\n",
       "    </tr>\n",
       "    <tr>\n",
       "      <th>RMiddleweightRank</th>\n",
       "      <td>6346</td>\n",
       "    </tr>\n",
       "    <tr>\n",
       "      <th>RWelterweightRank</th>\n",
       "      <td>6337</td>\n",
       "    </tr>\n",
       "    <tr>\n",
       "      <th>RLightweightRank</th>\n",
       "      <td>6344</td>\n",
       "    </tr>\n",
       "    <tr>\n",
       "      <th>RFeatherweightRank</th>\n",
       "      <td>6351</td>\n",
       "    </tr>\n",
       "    <tr>\n",
       "      <th>RBantamweightRank</th>\n",
       "      <td>6347</td>\n",
       "    </tr>\n",
       "    <tr>\n",
       "      <th>RFlyweightRank</th>\n",
       "      <td>6340</td>\n",
       "    </tr>\n",
       "    <tr>\n",
       "      <th>RPFPRank</th>\n",
       "      <td>6275</td>\n",
       "    </tr>\n",
       "    <tr>\n",
       "      <th>BWFlyweightRank</th>\n",
       "      <td>6455</td>\n",
       "    </tr>\n",
       "    <tr>\n",
       "      <th>BWFeatherweightRank</th>\n",
       "      <td>6527</td>\n",
       "    </tr>\n",
       "    <tr>\n",
       "      <th>BWStrawweightRank</th>\n",
       "      <td>6428</td>\n",
       "    </tr>\n",
       "    <tr>\n",
       "      <th>BWBantamweightRank</th>\n",
       "      <td>6421</td>\n",
       "    </tr>\n",
       "    <tr>\n",
       "      <th>BHeavyweightRank</th>\n",
       "      <td>6380</td>\n",
       "    </tr>\n",
       "    <tr>\n",
       "      <th>BLightHeavyweightRank</th>\n",
       "      <td>6408</td>\n",
       "    </tr>\n",
       "    <tr>\n",
       "      <th>BMiddleweightRank</th>\n",
       "      <td>6391</td>\n",
       "    </tr>\n",
       "    <tr>\n",
       "      <th>BWelterweightRank</th>\n",
       "      <td>6409</td>\n",
       "    </tr>\n",
       "    <tr>\n",
       "      <th>BLightweightRank</th>\n",
       "      <td>6408</td>\n",
       "    </tr>\n",
       "    <tr>\n",
       "      <th>BFeatherweightRank</th>\n",
       "      <td>6404</td>\n",
       "    </tr>\n",
       "    <tr>\n",
       "      <th>BBantamweightRank</th>\n",
       "      <td>6409</td>\n",
       "    </tr>\n",
       "    <tr>\n",
       "      <th>BFlyweightRank</th>\n",
       "      <td>6398</td>\n",
       "    </tr>\n",
       "    <tr>\n",
       "      <th>BPFPRank</th>\n",
       "      <td>6461</td>\n",
       "    </tr>\n",
       "    <tr>\n",
       "      <th>Finish</th>\n",
       "      <td>238</td>\n",
       "    </tr>\n",
       "    <tr>\n",
       "      <th>FinishDetails</th>\n",
       "      <td>3636</td>\n",
       "    </tr>\n",
       "    <tr>\n",
       "      <th>FinishRound</th>\n",
       "      <td>622</td>\n",
       "    </tr>\n",
       "    <tr>\n",
       "      <th>FinishRoundTime</th>\n",
       "      <td>622</td>\n",
       "    </tr>\n",
       "    <tr>\n",
       "      <th>TotalFightTimeSecs</th>\n",
       "      <td>622</td>\n",
       "    </tr>\n",
       "    <tr>\n",
       "      <th>RedDecOdds</th>\n",
       "      <td>1087</td>\n",
       "    </tr>\n",
       "    <tr>\n",
       "      <th>BlueDecOdds</th>\n",
       "      <td>1116</td>\n",
       "    </tr>\n",
       "    <tr>\n",
       "      <th>RSubOdds</th>\n",
       "      <td>1336</td>\n",
       "    </tr>\n",
       "    <tr>\n",
       "      <th>BSubOdds</th>\n",
       "      <td>1359</td>\n",
       "    </tr>\n",
       "    <tr>\n",
       "      <th>RKOOdds</th>\n",
       "      <td>1334</td>\n",
       "    </tr>\n",
       "    <tr>\n",
       "      <th>BKOOdds</th>\n",
       "      <td>1360</td>\n",
       "    </tr>\n",
       "  </tbody>\n",
       "</table>\n",
       "</div>"
      ],
      "text/plain": [
       "                       Missing Values\n",
       "RedOdds                           227\n",
       "BlueOdds                          226\n",
       "RedExpectedValue                  227\n",
       "BlueExpectedValue                 226\n",
       "BlueAvgSigStrLanded               930\n",
       "BlueAvgSigStrPct                  765\n",
       "BlueAvgSubAtt                     832\n",
       "BlueAvgTDLanded                   833\n",
       "BlueAvgTDPct                      842\n",
       "BlueStance                          3\n",
       "RedAvgSigStrLanded                455\n",
       "RedAvgSigStrPct                   357\n",
       "RedAvgSubAtt                      357\n",
       "RedAvgTDLanded                    357\n",
       "RedAvgTDPct                       367\n",
       "EmptyArena                       1486\n",
       "BMatchWCRank                     5328\n",
       "RMatchWCRank                     4749\n",
       "RWFlyweightRank                  6432\n",
       "RWFeatherweightRank              6519\n",
       "RWStrawweightRank                6382\n",
       "RWBantamweightRank               6374\n",
       "RHeavyweightRank                 6342\n",
       "RLightHeavyweightRank            6344\n",
       "RMiddleweightRank                6346\n",
       "RWelterweightRank                6337\n",
       "RLightweightRank                 6344\n",
       "RFeatherweightRank               6351\n",
       "RBantamweightRank                6347\n",
       "RFlyweightRank                   6340\n",
       "RPFPRank                         6275\n",
       "BWFlyweightRank                  6455\n",
       "BWFeatherweightRank              6527\n",
       "BWStrawweightRank                6428\n",
       "BWBantamweightRank               6421\n",
       "BHeavyweightRank                 6380\n",
       "BLightHeavyweightRank            6408\n",
       "BMiddleweightRank                6391\n",
       "BWelterweightRank                6409\n",
       "BLightweightRank                 6408\n",
       "BFeatherweightRank               6404\n",
       "BBantamweightRank                6409\n",
       "BFlyweightRank                   6398\n",
       "BPFPRank                         6461\n",
       "Finish                            238\n",
       "FinishDetails                    3636\n",
       "FinishRound                       622\n",
       "FinishRoundTime                   622\n",
       "TotalFightTimeSecs                622\n",
       "RedDecOdds                       1087\n",
       "BlueDecOdds                      1116\n",
       "RSubOdds                         1336\n",
       "BSubOdds                         1359\n",
       "RKOOdds                          1334\n",
       "BKOOdds                          1360"
      ]
     },
     "execution_count": 3,
     "metadata": {},
     "output_type": "execute_result"
    }
   ],
   "source": [
    "# Check for missing values in the dataset\n",
    "missing_values_summary = ufc_df.isnull().sum()\n",
    "\n",
    "# Display columns with missing values\n",
    "missing_values_summary = missing_values_summary[missing_values_summary > 0]\n",
    "\n",
    "# Display missing values count for each column\n",
    "missing_values_df = pd.DataFrame(missing_values_summary, columns=[\"Missing Values\"])\n",
    "missing_values_df"
   ]
  },
  {
   "cell_type": "code",
   "execution_count": null,
   "metadata": {},
   "outputs": [],
   "source": []
  },
  {
   "cell_type": "markdown",
   "metadata": {},
   "source": [
    "## Handling missing values"
   ]
  },
  {
   "cell_type": "code",
   "execution_count": 4,
   "metadata": {},
   "outputs": [],
   "source": [
    "# Fill missing values in betting odds columns with median values\n",
    "betting_odds_columns = [\"RedOdds\", \"BlueOdds\", \"RedExpectedValue\", \"BlueExpectedValue\"]\n",
    "ufc_df[betting_odds_columns] = ufc_df[betting_odds_columns].fillna(\n",
    "    ufc_df[betting_odds_columns].median()\n",
    ")"
   ]
  },
  {
   "cell_type": "code",
   "execution_count": 5,
   "metadata": {},
   "outputs": [],
   "source": [
    "# Fill missing values using a fighter's personal fight history first, then weight-class average\n",
    "def fill_missing_with_fighter_or_weight_class_avg(\n",
    "    df, fighter_col, stat_cols, weight_class_col\n",
    "):\n",
    "    for col in stat_cols:\n",
    "        # Step 1: Fill missing values with fighter's past fight average\n",
    "        df[col] = df.groupby(fighter_col)[col].transform(lambda x: x.fillna(x.mean()))\n",
    "\n",
    "        # Step 2: Fill any remaining missing values with weight class average\n",
    "        df[col] = df.groupby(weight_class_col)[col].transform(\n",
    "            lambda x: x.fillna(x.mean())\n",
    "        )\n",
    "\n",
    "    return df\n",
    "\n",
    "\n",
    "# Columns to fill using this improved approach\n",
    "fighter_stat_columns = [\n",
    "    \"BlueAvgSigStrLanded\",\n",
    "    \"BlueAvgSigStrPct\",\n",
    "    \"BlueAvgSubAtt\",\n",
    "    \"BlueAvgTDLanded\",\n",
    "    \"BlueAvgTDPct\",\n",
    "    \"RedAvgSigStrLanded\",\n",
    "    \"RedAvgSigStrPct\",\n",
    "    \"RedAvgSubAtt\",\n",
    "    \"RedAvgTDLanded\",\n",
    "    \"RedAvgTDPct\",\n",
    "]\n",
    "\n",
    "# Apply the function for both Blue and Red fighters using their weight class as fallback\n",
    "ufc_df = fill_missing_with_fighter_or_weight_class_avg(\n",
    "    ufc_df, \"BlueFighter\", fighter_stat_columns, \"WeightClass\"\n",
    ")\n",
    "ufc_df = fill_missing_with_fighter_or_weight_class_avg(\n",
    "    ufc_df, \"RedFighter\", fighter_stat_columns, \"WeightClass\"\n",
    ")\n"
   ]
  },
  {
   "cell_type": "code",
   "execution_count": 6,
   "metadata": {},
   "outputs": [],
   "source": [
    "# Fill missing stance values with 'Unknown'.\n",
    "# Fighters stance is a key attribute in UFC fights, so it is important to have a value for each fighter, but not all the fighters actually have a stance, they might be ambidextrous or switch stances during the fight.\n",
    "\n",
    "# Fill missing values in the stance columns with 'Unknown'\n",
    "ufc_df[\"RedStance\"] = ufc_df[\"RedStance\"].fillna(\"Unknown\")\n",
    "ufc_df[\"BlueStance\"] = ufc_df[\"BlueStance\"].fillna(\"Unknown\")"
   ]
  },
  {
   "cell_type": "code",
   "execution_count": 7,
   "metadata": {},
   "outputs": [],
   "source": [
    "# Leave ranking columns as they are (no action needed becasue not all fighter are ranked)"
   ]
  },
  {
   "cell_type": "code",
   "execution_count": 8,
   "metadata": {},
   "outputs": [
    {
     "data": {
      "application/vnd.microsoft.datawrangler.viewer.v0+json": {
       "columns": [
        {
         "name": "index",
         "rawType": "object",
         "type": "string"
        },
        {
         "name": "Missing Values",
         "rawType": "int64",
         "type": "integer"
        }
       ],
       "conversionMethod": "pd.DataFrame",
       "ref": "7c740a42-8e54-4d37-97f1-5f8a30f23493",
       "rows": [
        [
         "RedOdds",
         "227"
        ],
        [
         "BlueOdds",
         "226"
        ],
        [
         "RedExpectedValue",
         "227"
        ],
        [
         "BlueExpectedValue",
         "226"
        ],
        [
         "BlueAvgSigStrLanded",
         "930"
        ],
        [
         "BlueAvgSigStrPct",
         "765"
        ],
        [
         "BlueAvgSubAtt",
         "832"
        ],
        [
         "BlueAvgTDLanded",
         "833"
        ],
        [
         "BlueAvgTDPct",
         "842"
        ],
        [
         "BlueStance",
         "3"
        ],
        [
         "RedAvgSigStrLanded",
         "455"
        ],
        [
         "RedAvgSigStrPct",
         "357"
        ],
        [
         "RedAvgSubAtt",
         "357"
        ],
        [
         "RedAvgTDLanded",
         "357"
        ],
        [
         "RedAvgTDPct",
         "367"
        ],
        [
         "EmptyArena",
         "1486"
        ],
        [
         "BMatchWCRank",
         "5328"
        ],
        [
         "RMatchWCRank",
         "4749"
        ],
        [
         "RWFlyweightRank",
         "6432"
        ],
        [
         "RWFeatherweightRank",
         "6519"
        ],
        [
         "RWStrawweightRank",
         "6382"
        ],
        [
         "RWBantamweightRank",
         "6374"
        ],
        [
         "RHeavyweightRank",
         "6342"
        ],
        [
         "RLightHeavyweightRank",
         "6344"
        ],
        [
         "RMiddleweightRank",
         "6346"
        ],
        [
         "RWelterweightRank",
         "6337"
        ],
        [
         "RLightweightRank",
         "6344"
        ],
        [
         "RFeatherweightRank",
         "6351"
        ],
        [
         "RBantamweightRank",
         "6347"
        ],
        [
         "RFlyweightRank",
         "6340"
        ],
        [
         "RPFPRank",
         "6275"
        ],
        [
         "BWFlyweightRank",
         "6455"
        ],
        [
         "BWFeatherweightRank",
         "6527"
        ],
        [
         "BWStrawweightRank",
         "6428"
        ],
        [
         "BWBantamweightRank",
         "6421"
        ],
        [
         "BHeavyweightRank",
         "6380"
        ],
        [
         "BLightHeavyweightRank",
         "6408"
        ],
        [
         "BMiddleweightRank",
         "6391"
        ],
        [
         "BWelterweightRank",
         "6409"
        ],
        [
         "BLightweightRank",
         "6408"
        ],
        [
         "BFeatherweightRank",
         "6404"
        ],
        [
         "BBantamweightRank",
         "6409"
        ],
        [
         "BFlyweightRank",
         "6398"
        ],
        [
         "BPFPRank",
         "6461"
        ],
        [
         "Finish",
         "238"
        ],
        [
         "FinishDetails",
         "3636"
        ],
        [
         "FinishRound",
         "622"
        ],
        [
         "FinishRoundTime",
         "622"
        ],
        [
         "TotalFightTimeSecs",
         "622"
        ],
        [
         "RedDecOdds",
         "1087"
        ]
       ],
       "shape": {
        "columns": 1,
        "rows": 55
       }
      },
      "text/html": [
       "<div>\n",
       "<style scoped>\n",
       "    .dataframe tbody tr th:only-of-type {\n",
       "        vertical-align: middle;\n",
       "    }\n",
       "\n",
       "    .dataframe tbody tr th {\n",
       "        vertical-align: top;\n",
       "    }\n",
       "\n",
       "    .dataframe thead th {\n",
       "        text-align: right;\n",
       "    }\n",
       "</style>\n",
       "<table border=\"1\" class=\"dataframe\">\n",
       "  <thead>\n",
       "    <tr style=\"text-align: right;\">\n",
       "      <th></th>\n",
       "      <th>Missing Values</th>\n",
       "    </tr>\n",
       "  </thead>\n",
       "  <tbody>\n",
       "    <tr>\n",
       "      <th>RedOdds</th>\n",
       "      <td>227</td>\n",
       "    </tr>\n",
       "    <tr>\n",
       "      <th>BlueOdds</th>\n",
       "      <td>226</td>\n",
       "    </tr>\n",
       "    <tr>\n",
       "      <th>RedExpectedValue</th>\n",
       "      <td>227</td>\n",
       "    </tr>\n",
       "    <tr>\n",
       "      <th>BlueExpectedValue</th>\n",
       "      <td>226</td>\n",
       "    </tr>\n",
       "    <tr>\n",
       "      <th>BlueAvgSigStrLanded</th>\n",
       "      <td>930</td>\n",
       "    </tr>\n",
       "    <tr>\n",
       "      <th>BlueAvgSigStrPct</th>\n",
       "      <td>765</td>\n",
       "    </tr>\n",
       "    <tr>\n",
       "      <th>BlueAvgSubAtt</th>\n",
       "      <td>832</td>\n",
       "    </tr>\n",
       "    <tr>\n",
       "      <th>BlueAvgTDLanded</th>\n",
       "      <td>833</td>\n",
       "    </tr>\n",
       "    <tr>\n",
       "      <th>BlueAvgTDPct</th>\n",
       "      <td>842</td>\n",
       "    </tr>\n",
       "    <tr>\n",
       "      <th>BlueStance</th>\n",
       "      <td>3</td>\n",
       "    </tr>\n",
       "    <tr>\n",
       "      <th>RedAvgSigStrLanded</th>\n",
       "      <td>455</td>\n",
       "    </tr>\n",
       "    <tr>\n",
       "      <th>RedAvgSigStrPct</th>\n",
       "      <td>357</td>\n",
       "    </tr>\n",
       "    <tr>\n",
       "      <th>RedAvgSubAtt</th>\n",
       "      <td>357</td>\n",
       "    </tr>\n",
       "    <tr>\n",
       "      <th>RedAvgTDLanded</th>\n",
       "      <td>357</td>\n",
       "    </tr>\n",
       "    <tr>\n",
       "      <th>RedAvgTDPct</th>\n",
       "      <td>367</td>\n",
       "    </tr>\n",
       "    <tr>\n",
       "      <th>EmptyArena</th>\n",
       "      <td>1486</td>\n",
       "    </tr>\n",
       "    <tr>\n",
       "      <th>BMatchWCRank</th>\n",
       "      <td>5328</td>\n",
       "    </tr>\n",
       "    <tr>\n",
       "      <th>RMatchWCRank</th>\n",
       "      <td>4749</td>\n",
       "    </tr>\n",
       "    <tr>\n",
       "      <th>RWFlyweightRank</th>\n",
       "      <td>6432</td>\n",
       "    </tr>\n",
       "    <tr>\n",
       "      <th>RWFeatherweightRank</th>\n",
       "      <td>6519</td>\n",
       "    </tr>\n",
       "    <tr>\n",
       "      <th>RWStrawweightRank</th>\n",
       "      <td>6382</td>\n",
       "    </tr>\n",
       "    <tr>\n",
       "      <th>RWBantamweightRank</th>\n",
       "      <td>6374</td>\n",
       "    </tr>\n",
       "    <tr>\n",
       "      <th>RHeavyweightRank</th>\n",
       "      <td>6342</td>\n",
       "    </tr>\n",
       "    <tr>\n",
       "      <th>RLightHeavyweightRank</th>\n",
       "      <td>6344</td>\n",
       "    </tr>\n",
       "    <tr>\n",
       "      <th>RMiddleweightRank</th>\n",
       "      <td>6346</td>\n",
       "    </tr>\n",
       "    <tr>\n",
       "      <th>RWelterweightRank</th>\n",
       "      <td>6337</td>\n",
       "    </tr>\n",
       "    <tr>\n",
       "      <th>RLightweightRank</th>\n",
       "      <td>6344</td>\n",
       "    </tr>\n",
       "    <tr>\n",
       "      <th>RFeatherweightRank</th>\n",
       "      <td>6351</td>\n",
       "    </tr>\n",
       "    <tr>\n",
       "      <th>RBantamweightRank</th>\n",
       "      <td>6347</td>\n",
       "    </tr>\n",
       "    <tr>\n",
       "      <th>RFlyweightRank</th>\n",
       "      <td>6340</td>\n",
       "    </tr>\n",
       "    <tr>\n",
       "      <th>RPFPRank</th>\n",
       "      <td>6275</td>\n",
       "    </tr>\n",
       "    <tr>\n",
       "      <th>BWFlyweightRank</th>\n",
       "      <td>6455</td>\n",
       "    </tr>\n",
       "    <tr>\n",
       "      <th>BWFeatherweightRank</th>\n",
       "      <td>6527</td>\n",
       "    </tr>\n",
       "    <tr>\n",
       "      <th>BWStrawweightRank</th>\n",
       "      <td>6428</td>\n",
       "    </tr>\n",
       "    <tr>\n",
       "      <th>BWBantamweightRank</th>\n",
       "      <td>6421</td>\n",
       "    </tr>\n",
       "    <tr>\n",
       "      <th>BHeavyweightRank</th>\n",
       "      <td>6380</td>\n",
       "    </tr>\n",
       "    <tr>\n",
       "      <th>BLightHeavyweightRank</th>\n",
       "      <td>6408</td>\n",
       "    </tr>\n",
       "    <tr>\n",
       "      <th>BMiddleweightRank</th>\n",
       "      <td>6391</td>\n",
       "    </tr>\n",
       "    <tr>\n",
       "      <th>BWelterweightRank</th>\n",
       "      <td>6409</td>\n",
       "    </tr>\n",
       "    <tr>\n",
       "      <th>BLightweightRank</th>\n",
       "      <td>6408</td>\n",
       "    </tr>\n",
       "    <tr>\n",
       "      <th>BFeatherweightRank</th>\n",
       "      <td>6404</td>\n",
       "    </tr>\n",
       "    <tr>\n",
       "      <th>BBantamweightRank</th>\n",
       "      <td>6409</td>\n",
       "    </tr>\n",
       "    <tr>\n",
       "      <th>BFlyweightRank</th>\n",
       "      <td>6398</td>\n",
       "    </tr>\n",
       "    <tr>\n",
       "      <th>BPFPRank</th>\n",
       "      <td>6461</td>\n",
       "    </tr>\n",
       "    <tr>\n",
       "      <th>Finish</th>\n",
       "      <td>238</td>\n",
       "    </tr>\n",
       "    <tr>\n",
       "      <th>FinishDetails</th>\n",
       "      <td>3636</td>\n",
       "    </tr>\n",
       "    <tr>\n",
       "      <th>FinishRound</th>\n",
       "      <td>622</td>\n",
       "    </tr>\n",
       "    <tr>\n",
       "      <th>FinishRoundTime</th>\n",
       "      <td>622</td>\n",
       "    </tr>\n",
       "    <tr>\n",
       "      <th>TotalFightTimeSecs</th>\n",
       "      <td>622</td>\n",
       "    </tr>\n",
       "    <tr>\n",
       "      <th>RedDecOdds</th>\n",
       "      <td>1087</td>\n",
       "    </tr>\n",
       "    <tr>\n",
       "      <th>BlueDecOdds</th>\n",
       "      <td>1116</td>\n",
       "    </tr>\n",
       "    <tr>\n",
       "      <th>RSubOdds</th>\n",
       "      <td>1336</td>\n",
       "    </tr>\n",
       "    <tr>\n",
       "      <th>BSubOdds</th>\n",
       "      <td>1359</td>\n",
       "    </tr>\n",
       "    <tr>\n",
       "      <th>RKOOdds</th>\n",
       "      <td>1334</td>\n",
       "    </tr>\n",
       "    <tr>\n",
       "      <th>BKOOdds</th>\n",
       "      <td>1360</td>\n",
       "    </tr>\n",
       "  </tbody>\n",
       "</table>\n",
       "</div>"
      ],
      "text/plain": [
       "                       Missing Values\n",
       "RedOdds                           227\n",
       "BlueOdds                          226\n",
       "RedExpectedValue                  227\n",
       "BlueExpectedValue                 226\n",
       "BlueAvgSigStrLanded               930\n",
       "BlueAvgSigStrPct                  765\n",
       "BlueAvgSubAtt                     832\n",
       "BlueAvgTDLanded                   833\n",
       "BlueAvgTDPct                      842\n",
       "BlueStance                          3\n",
       "RedAvgSigStrLanded                455\n",
       "RedAvgSigStrPct                   357\n",
       "RedAvgSubAtt                      357\n",
       "RedAvgTDLanded                    357\n",
       "RedAvgTDPct                       367\n",
       "EmptyArena                       1486\n",
       "BMatchWCRank                     5328\n",
       "RMatchWCRank                     4749\n",
       "RWFlyweightRank                  6432\n",
       "RWFeatherweightRank              6519\n",
       "RWStrawweightRank                6382\n",
       "RWBantamweightRank               6374\n",
       "RHeavyweightRank                 6342\n",
       "RLightHeavyweightRank            6344\n",
       "RMiddleweightRank                6346\n",
       "RWelterweightRank                6337\n",
       "RLightweightRank                 6344\n",
       "RFeatherweightRank               6351\n",
       "RBantamweightRank                6347\n",
       "RFlyweightRank                   6340\n",
       "RPFPRank                         6275\n",
       "BWFlyweightRank                  6455\n",
       "BWFeatherweightRank              6527\n",
       "BWStrawweightRank                6428\n",
       "BWBantamweightRank               6421\n",
       "BHeavyweightRank                 6380\n",
       "BLightHeavyweightRank            6408\n",
       "BMiddleweightRank                6391\n",
       "BWelterweightRank                6409\n",
       "BLightweightRank                 6408\n",
       "BFeatherweightRank               6404\n",
       "BBantamweightRank                6409\n",
       "BFlyweightRank                   6398\n",
       "BPFPRank                         6461\n",
       "Finish                            238\n",
       "FinishDetails                    3636\n",
       "FinishRound                       622\n",
       "FinishRoundTime                   622\n",
       "TotalFightTimeSecs                622\n",
       "RedDecOdds                       1087\n",
       "BlueDecOdds                      1116\n",
       "RSubOdds                         1336\n",
       "BSubOdds                         1359\n",
       "RKOOdds                          1334\n",
       "BKOOdds                          1360"
      ]
     },
     "execution_count": 8,
     "metadata": {},
     "output_type": "execute_result"
    }
   ],
   "source": [
    "# I chose to fill the missing values in the EmptyArena column based on the fight date.\n",
    "# # I assumed that all fights that took place between March 14, 2020, and December 18, 2021, were held in an empty arena.\n",
    "# All other fights were held in a non-empty arena.\n",
    "# # This approach is based on the COVID-19 pandemic, which led to the cancellation of live audiences at sporting events.\n",
    "\n",
    "# Fill missing values in EmptyArena based on fight date\n",
    "ufc_df.loc[\n",
    "    (ufc_df[\"Date\"] >= \"2020-03-14\")\n",
    "    & (ufc_df[\"Date\"] <= \"2021-12-18\")\n",
    "    & (ufc_df[\"EmptyArena\"].isnull()),\n",
    "    \"EmptyArena\",\n",
    "] = 1.0\n",
    "ufc_df.loc[\n",
    "    ((ufc_df[\"Date\"] < \"2020-03-14\") | (ufc_df[\"Date\"] > \"2021-12-18\"))\n",
    "    & (ufc_df[\"EmptyArena\"].isnull()),\n",
    "    \"EmptyArena\",\n",
    "] = 0.0\n",
    "\n",
    "# Verify if there are still missing values in EmptyArena\n",
    "missing_empty_arena = ufc_df[\"EmptyArena\"].isnull().sum()\n",
    "\n",
    "# Display the result\n",
    "missing_empty_arena\n",
    "missing_values_df"
   ]
  },
  {
   "cell_type": "code",
   "execution_count": 9,
   "metadata": {},
   "outputs": [],
   "source": [
    "# Fill missing ranking values with \"Unranked\"\n",
    "all_ranking_columns = [\n",
    "    \"BMatchWCRank\",\n",
    "    \"RMatchWCRank\",\n",
    "    \"RWFlyweightRank\",\n",
    "    \"RWFeatherweightRank\",\n",
    "    \"RWStrawweightRank\",\n",
    "    \"RWBantamweightRank\",\n",
    "    \"RHeavyweightRank\",\n",
    "    \"RLightHeavyweightRank\",\n",
    "    \"RMiddleweightRank\",\n",
    "    \"RWelterweightRank\",\n",
    "    \"RLightweightRank\",\n",
    "    \"RFeatherweightRank\",\n",
    "    \"RBantamweightRank\",\n",
    "    \"RFlyweightRank\",\n",
    "    \"RPFPRank\",\n",
    "    \"BWFlyweightRank\",\n",
    "    \"BWFeatherweightRank\",\n",
    "    \"BWStrawweightRank\",\n",
    "    \"BWBantamweightRank\",\n",
    "    \"BHeavyweightRank\",\n",
    "    \"BLightHeavyweightRank\",\n",
    "    \"BMiddleweightRank\",\n",
    "    \"BWelterweightRank\",\n",
    "    \"BLightweightRank\",\n",
    "    \"BFeatherweightRank\",\n",
    "    \"BBantamweightRank\",\n",
    "    \"BFlyweightRank\",\n",
    "    \"BPFPRank\",\n",
    "]\n",
    "ufc_df[all_ranking_columns] = ufc_df[all_ranking_columns].fillna(\"Unranked\")\n"
   ]
  },
  {
   "cell_type": "code",
   "execution_count": 10,
   "metadata": {},
   "outputs": [
    {
     "name": "stdout",
     "output_type": "stream",
     "text": [
      "<class 'pandas.core.frame.DataFrame'>\n",
      "RangeIndex: 6528 entries, 0 to 6527\n",
      "Columns: 118 entries, RedFighter to BKOOdds\n",
      "dtypes: bool(1), float64(32), int64(43), object(42)\n",
      "memory usage: 5.8+ MB\n"
     ]
    }
   ],
   "source": [
    "# Verify dataset after cleaning\n",
    "ufc_df.info()"
   ]
  },
  {
   "cell_type": "code",
   "execution_count": 11,
   "metadata": {},
   "outputs": [
    {
     "data": {
      "text/plain": [
       "Finish\n",
       "U-DEC         2404\n",
       "KO/TKO        2009\n",
       "SUB           1157\n",
       "S-DEC          654\n",
       "M-DEC           46\n",
       "DQ              18\n",
       "Overturned       2\n",
       "Name: count, dtype: int64"
      ]
     },
     "execution_count": 11,
     "metadata": {},
     "output_type": "execute_result"
    }
   ],
   "source": [
    "# value count of finish\n",
    "ufc_df[\"Finish\"].value_counts()"
   ]
  },
  {
   "cell_type": "code",
   "execution_count": 12,
   "metadata": {},
   "outputs": [],
   "source": [
    "# Fill missing `Finish` and `FinishDetails` with \"Unknown\"\n",
    "# Since we have a winnder and loser in each fight, we can assume that all fights have a finish type and details. But we will mark them as unknown.\n",
    "\n",
    "ufc_df.loc[ufc_df[\"Finish\"].isnull(), \"Finish\"] = \"Unknown\"\n",
    "ufc_df.loc[ufc_df[\"FinishDetails\"].isnull(), \"FinishDetails\"] = \"Unknown\""
   ]
  },
  {
   "cell_type": "code",
   "execution_count": 13,
   "metadata": {},
   "outputs": [
    {
     "name": "stdout",
     "output_type": "stream",
     "text": [
      "Columns with missing values:\n",
      "FinishRound            622\n",
      "FinishRoundTime        622\n",
      "TotalFightTimeSecs     622\n",
      "RedDecOdds            1087\n",
      "BlueDecOdds           1116\n",
      "RSubOdds              1336\n",
      "BSubOdds              1359\n",
      "RKOOdds               1334\n",
      "BKOOdds               1360\n",
      "dtype: int64\n"
     ]
    }
   ],
   "source": [
    "# Check for missing values in the entire dataset\n",
    "missing_values_summary = ufc_df.isnull().sum()\n",
    "\n",
    "# Filter only columns with missing values\n",
    "remaining_missing_values = missing_values_summary[missing_values_summary > 0]\n",
    "\n",
    "# Display the missing values count for each column\n",
    "if remaining_missing_values.empty:\n",
    "    print(\"No missing values left in the dataset!\")\n",
    "else:\n",
    "    print(\"Columns with missing values:\")\n",
    "    print(remaining_missing_values)"
   ]
  },
  {
   "cell_type": "code",
   "execution_count": 14,
   "metadata": {},
   "outputs": [
    {
     "data": {
      "text/plain": [
       "Finish\n",
       "U-DEC         2404\n",
       "KO/TKO        2009\n",
       "SUB           1157\n",
       "S-DEC          654\n",
       "Unknown        238\n",
       "M-DEC           46\n",
       "DQ              18\n",
       "Overturned       2\n",
       "Name: count, dtype: int64"
      ]
     },
     "execution_count": 14,
     "metadata": {},
     "output_type": "execute_result"
    }
   ],
   "source": [
    "# value count of finish\n",
    "ufc_df[\"Finish\"].value_counts()"
   ]
  },
  {
   "cell_type": "code",
   "execution_count": 15,
   "metadata": {},
   "outputs": [],
   "source": [
    "# Fill Any Remaining Missing Values with Estimated Medians\n",
    "# Compute the median values based on available data\n",
    "median_finish_round = ufc_df[\"FinishRound\"].median()\n",
    "median_total_fight_time = ufc_df[\"TotalFightTimeSecs\"].median()\n",
    "\n",
    "# Force-fill all remaining missing values with the computed medians\n",
    "ufc_df.loc[ufc_df[\"FinishRound\"].isnull(), \"FinishRound\"] = median_finish_round\n",
    "ufc_df.loc[ufc_df[\"TotalFightTimeSecs\"].isnull(), \"TotalFightTimeSecs\"] = (\n",
    "    median_total_fight_time\n",
    ")\n",
    "\n",
    "# Convert `FinishRound` and `TotalFightTimeSecs` to integer format for consistency\n",
    "ufc_df[\"FinishRound\"] = ufc_df[\"FinishRound\"].astype(\"Int64\")\n",
    "ufc_df[\"TotalFightTimeSecs\"] = ufc_df[\"TotalFightTimeSecs\"].astype(\"Int64\")"
   ]
  },
  {
   "cell_type": "code",
   "execution_count": 16,
   "metadata": {},
   "outputs": [
    {
     "data": {
      "text/plain": [
       "FinishRound\n",
       "3    3797\n",
       "1    1492\n",
       "2     953\n",
       "5     250\n",
       "4      36\n",
       "Name: count, dtype: Int64"
      ]
     },
     "execution_count": 16,
     "metadata": {},
     "output_type": "execute_result"
    }
   ],
   "source": [
    "# check value counts FinishRound, and FinishRoundTime TotalFightTimeSecs\n",
    "ufc_df[\"FinishRound\"].value_counts()\n",
    "# ufc_df[\"FinishRoundTime\"].value_counts()\n",
    "# ufc_df[\"TotalFightTimeSecs\"].value_counts()\n"
   ]
  },
  {
   "cell_type": "code",
   "execution_count": 17,
   "metadata": {},
   "outputs": [
    {
     "data": {
      "text/plain": [
       "0       False\n",
       "1       False\n",
       "2       False\n",
       "3       False\n",
       "4       False\n",
       "        ...  \n",
       "6523    False\n",
       "6524    False\n",
       "6525    False\n",
       "6526    False\n",
       "6527    False\n",
       "Length: 6528, dtype: bool"
      ]
     },
     "execution_count": 17,
     "metadata": {},
     "output_type": "execute_result"
    }
   ],
   "source": [
    "# Check for duplicates in the dataset\n",
    "duplicates = ufc_df.duplicated()\n",
    "\n",
    "# display duplicates\n",
    "duplicates"
   ]
  },
  {
   "cell_type": "code",
   "execution_count": 18,
   "metadata": {},
   "outputs": [
    {
     "name": "stdout",
     "output_type": "stream",
     "text": [
      "<class 'pandas.core.frame.DataFrame'>\n",
      "RangeIndex: 6528 entries, 0 to 6527\n",
      "Data columns (total 54 columns):\n",
      " #   Column                 Non-Null Count  Dtype  \n",
      "---  ------                 --------------  -----  \n",
      " 0   Finish                 6528 non-null   object \n",
      " 1   FinishDetails          6528 non-null   object \n",
      " 2   TotalFightTimeSecs     6528 non-null   Int64  \n",
      " 3   FinishRound            6528 non-null   Int64  \n",
      " 4   FinishRoundTime        5906 non-null   object \n",
      " 5   RedFighter             6528 non-null   object \n",
      " 6   BlueFighter            6528 non-null   object \n",
      " 7   Gender                 6528 non-null   object \n",
      " 8   WeightClass            6528 non-null   object \n",
      " 9   RedReachCms            6528 non-null   float64\n",
      " 10  BlueReachCms           6528 non-null   float64\n",
      " 11  RedHeightCms           6528 non-null   float64\n",
      " 12  BlueHeightCms          6528 non-null   float64\n",
      " 13  RedWeightLbs           6528 non-null   int64  \n",
      " 14  BlueWeightLbs          6528 non-null   int64  \n",
      " 15  RedTotalTitleBouts     6528 non-null   int64  \n",
      " 16  BlueTotalTitleBouts    6528 non-null   int64  \n",
      " 17  RedStance              6528 non-null   object \n",
      " 18  BlueStance             6528 non-null   object \n",
      " 19  RedAge                 6528 non-null   int64  \n",
      " 20  BlueAge                6528 non-null   int64  \n",
      " 21  RedCurrentWinStreak    6528 non-null   int64  \n",
      " 22  BlueCurrentWinStreak   6528 non-null   int64  \n",
      " 23  RedCurrentLoseStreak   6528 non-null   int64  \n",
      " 24  BlueCurrentLoseStreak  6528 non-null   int64  \n",
      " 25  RedWins                6528 non-null   int64  \n",
      " 26  BlueWins               6528 non-null   int64  \n",
      " 27  RedLosses              6528 non-null   int64  \n",
      " 28  BlueLosses             6528 non-null   int64  \n",
      " 29  RedDraws               6528 non-null   int64  \n",
      " 30  BlueDraws              6528 non-null   int64  \n",
      " 31  RedWinsByKO            6528 non-null   int64  \n",
      " 32  BlueWinsByKO           6528 non-null   int64  \n",
      " 33  RedWinsBySubmission    6528 non-null   int64  \n",
      " 34  BlueWinsBySubmission   6528 non-null   int64  \n",
      " 35  RedAvgSigStrLanded     6528 non-null   float64\n",
      " 36  BlueAvgSigStrLanded    6528 non-null   float64\n",
      " 37  RedAvgSigStrPct        6528 non-null   float64\n",
      " 38  BlueAvgSigStrPct       6528 non-null   float64\n",
      " 39  RedAvgTDLanded         6528 non-null   float64\n",
      " 40  BlueAvgTDLanded        6528 non-null   float64\n",
      " 41  RedAvgTDPct            6528 non-null   float64\n",
      " 42  BlueAvgTDPct           6528 non-null   float64\n",
      " 43  RedAvgSubAtt           6528 non-null   float64\n",
      " 44  BlueAvgSubAtt          6528 non-null   float64\n",
      " 45  RedOdds                6528 non-null   float64\n",
      " 46  BlueOdds               6528 non-null   float64\n",
      " 47  Winner                 6528 non-null   object \n",
      " 48  Date                   6528 non-null   object \n",
      " 49  Location               6528 non-null   object \n",
      " 50  Country                6528 non-null   object \n",
      " 51  TitleBout              6528 non-null   bool   \n",
      " 52  NumberOfRounds         6528 non-null   int64  \n",
      " 53  EmptyArena             6528 non-null   float64\n",
      "dtypes: Int64(2), bool(1), float64(17), int64(21), object(13)\n",
      "memory usage: 2.7+ MB\n"
     ]
    }
   ],
   "source": [
    "# **Define Columns to Keep**\n",
    "columns_to_keep = [\n",
    "    # Fight Outcome Analysis\n",
    "    \"Finish\",\n",
    "    \"FinishDetails\",\n",
    "    \"TotalFightTimeSecs\",\n",
    "    \"FinishRound\",\n",
    "    \"FinishRoundTime\",  # Fight results and round details\n",
    "    # Fighter Information & Performance\n",
    "    \"RedFighter\",\n",
    "    \"BlueFighter\",  # Fighter names for identification\n",
    "    \"Gender\",  # Gender of fighters to analyze gender-based trends\n",
    "    \"WeightClass\",\n",
    "    \"RedReachCms\",\n",
    "    \"BlueReachCms\",\n",
    "    \"RedHeightCms\",\n",
    "    \"BlueHeightCms\",\n",
    "    \"RedWeightLbs\",\n",
    "    \"BlueWeightLbs\",  # Physical attributes\n",
    "    \"RedTotalTitleBouts\",\n",
    "    \"BlueTotalTitleBouts\",\n",
    "    \"RedStance\",\n",
    "    \"BlueStance\",\n",
    "    \"RedAge\",\n",
    "    \"BlueAge\",  # Experience & age for performance analysis\n",
    "    \"RedCurrentWinStreak\",\n",
    "    \"BlueCurrentWinStreak\",\n",
    "    \"RedCurrentLoseStreak\",\n",
    "    \"BlueCurrentLoseStreak\",  # Win/Loss streaks\n",
    "    \"RedWins\",\n",
    "    \"BlueWins\",\n",
    "    \"RedLosses\",\n",
    "    \"BlueLosses\",\n",
    "    \"RedDraws\",\n",
    "    \"BlueDraws\",  # Fighter records\n",
    "    # Fighter Finish Methods\n",
    "    \"RedWinsByKO\",\n",
    "    \"BlueWinsByKO\",\n",
    "    \"RedWinsBySubmission\",\n",
    "    \"BlueWinsBySubmission\",  # KO/Sub wins\n",
    "    # Fighter Performance Statistics\n",
    "    \"RedAvgSigStrLanded\",\n",
    "    \"BlueAvgSigStrLanded\",  # Significant strikes landed\n",
    "    \"RedAvgSigStrPct\",\n",
    "    \"BlueAvgSigStrPct\",  # Significant strike accuracy percentage\n",
    "    \"RedAvgTDLanded\",\n",
    "    \"BlueAvgTDLanded\",  # Successful takedowns\n",
    "    \"RedAvgTDPct\",\n",
    "    \"BlueAvgTDPct\",  # Takedown accuracy\n",
    "    \"RedAvgSubAtt\",\n",
    "    \"BlueAvgSubAtt\",  # Submission attempts\n",
    "    # **Betting & Fight Predictions**\n",
    "    \"RedOdds\",\n",
    "    \"BlueOdds\",\n",
    "    \"Winner\",  # Betting odds and fight outcomes\n",
    "    # Time-Based Trends & External Factors\n",
    "    \"Date\",\n",
    "    \"Location\",\n",
    "    \"Country\",\n",
    "    \"TitleBout\",\n",
    "    \"NumberOfRounds\",\n",
    "    \"EmptyArena\",  # Fight metadata\n",
    "]\n",
    "\n",
    "# Apply Column Selection to the Dataset\n",
    "ufc_df = ufc_df[columns_to_keep]\n",
    "\n",
    "# Display Dataset Structure After Selection\n",
    "ufc_df.info()\n"
   ]
  },
  {
   "cell_type": "code",
   "execution_count": 19,
   "metadata": {},
   "outputs": [
    {
     "name": "stdout",
     "output_type": "stream",
     "text": [
      "<class 'pandas.core.frame.DataFrame'>\n",
      "RangeIndex: 6528 entries, 0 to 6527\n",
      "Data columns (total 54 columns):\n",
      " #   Column                 Non-Null Count  Dtype  \n",
      "---  ------                 --------------  -----  \n",
      " 0   Finish                 6528 non-null   object \n",
      " 1   FinishDetails          6528 non-null   object \n",
      " 2   TotalFightTimeSecs     6528 non-null   Int64  \n",
      " 3   FinishRound            6528 non-null   Int64  \n",
      " 4   RedFighter             6528 non-null   object \n",
      " 5   BlueFighter            6528 non-null   object \n",
      " 6   Gender                 6528 non-null   object \n",
      " 7   WeightClass            6528 non-null   object \n",
      " 8   RedReachCms            6528 non-null   float64\n",
      " 9   BlueReachCms           6528 non-null   float64\n",
      " 10  RedHeightCms           6528 non-null   float64\n",
      " 11  BlueHeightCms          6528 non-null   float64\n",
      " 12  RedWeightLbs           6528 non-null   int64  \n",
      " 13  BlueWeightLbs          6528 non-null   int64  \n",
      " 14  RedTotalTitleBouts     6528 non-null   int64  \n",
      " 15  BlueTotalTitleBouts    6528 non-null   int64  \n",
      " 16  RedStance              6528 non-null   object \n",
      " 17  BlueStance             6528 non-null   object \n",
      " 18  RedAge                 6528 non-null   int64  \n",
      " 19  BlueAge                6528 non-null   int64  \n",
      " 20  RedCurrentWinStreak    6528 non-null   int64  \n",
      " 21  BlueCurrentWinStreak   6528 non-null   int64  \n",
      " 22  RedCurrentLoseStreak   6528 non-null   int64  \n",
      " 23  BlueCurrentLoseStreak  6528 non-null   int64  \n",
      " 24  RedWins                6528 non-null   int64  \n",
      " 25  BlueWins               6528 non-null   int64  \n",
      " 26  RedLosses              6528 non-null   int64  \n",
      " 27  BlueLosses             6528 non-null   int64  \n",
      " 28  RedDraws               6528 non-null   int64  \n",
      " 29  BlueDraws              6528 non-null   int64  \n",
      " 30  RedWinsByKO            6528 non-null   int64  \n",
      " 31  BlueWinsByKO           6528 non-null   int64  \n",
      " 32  RedWinsBySubmission    6528 non-null   int64  \n",
      " 33  BlueWinsBySubmission   6528 non-null   int64  \n",
      " 34  RedAvgSigStrLanded     6528 non-null   float64\n",
      " 35  BlueAvgSigStrLanded    6528 non-null   float64\n",
      " 36  RedAvgSigStrPct        6528 non-null   float64\n",
      " 37  BlueAvgSigStrPct       6528 non-null   float64\n",
      " 38  RedAvgTDLanded         6528 non-null   float64\n",
      " 39  BlueAvgTDLanded        6528 non-null   float64\n",
      " 40  RedAvgTDPct            6528 non-null   float64\n",
      " 41  BlueAvgTDPct           6528 non-null   float64\n",
      " 42  RedAvgSubAtt           6528 non-null   float64\n",
      " 43  BlueAvgSubAtt          6528 non-null   float64\n",
      " 44  RedOdds                6528 non-null   float64\n",
      " 45  BlueOdds               6528 non-null   float64\n",
      " 46  Winner                 6528 non-null   object \n",
      " 47  Date                   6528 non-null   object \n",
      " 48  Location               6528 non-null   object \n",
      " 49  Country                6528 non-null   object \n",
      " 50  TitleBout              6528 non-null   bool   \n",
      " 51  NumberOfRounds         6528 non-null   int64  \n",
      " 52  EmptyArena             6528 non-null   float64\n",
      " 53  FinishRoundTimeSecs    5906 non-null   float64\n",
      "dtypes: Int64(2), bool(1), float64(18), int64(21), object(12)\n",
      "memory usage: 2.7+ MB\n"
     ]
    },
    {
     "name": "stderr",
     "output_type": "stream",
     "text": [
      "C:\\Users\\mauro\\AppData\\Local\\Temp\\ipykernel_22428\\3488839276.py:13: SettingWithCopyWarning: \n",
      "A value is trying to be set on a copy of a slice from a DataFrame.\n",
      "Try using .loc[row_indexer,col_indexer] = value instead\n",
      "\n",
      "See the caveats in the documentation: https://pandas.pydata.org/pandas-docs/stable/user_guide/indexing.html#returning-a-view-versus-a-copy\n",
      "  ufc_df[\"FinishRoundTimeSecs\"] = (\n",
      "C:\\Users\\mauro\\AppData\\Local\\Temp\\ipykernel_22428\\3488839276.py:18: SettingWithCopyWarning: \n",
      "A value is trying to be set on a copy of a slice from a DataFrame\n",
      "\n",
      "See the caveats in the documentation: https://pandas.pydata.org/pandas-docs/stable/user_guide/indexing.html#returning-a-view-versus-a-copy\n",
      "  ufc_df.drop(columns=[\"FinishRoundTime\"], inplace=True)\n"
     ]
    }
   ],
   "source": [
    "# convert finishRoundTime to seconds\n",
    "\n",
    "# Function to convert `MM:SS` format to seconds\n",
    "def convert_time_to_seconds(time_str):\n",
    "    try:\n",
    "        minutes, seconds = map(int, time_str.split(\":\"))\n",
    "        return minutes * 60 + seconds\n",
    "    except:\n",
    "        return None  # Handle invalid or missing values\n",
    "\n",
    "\n",
    "# Apply conversion to `FinishRoundTime`\n",
    "ufc_df[\"FinishRoundTimeSecs\"] = (\n",
    "    ufc_df[\"FinishRoundTime\"].astype(str).apply(convert_time_to_seconds)\n",
    ")\n",
    "\n",
    "# Drop the original `FinishRoundTime` column\n",
    "ufc_df.drop(columns=[\"FinishRoundTime\"], inplace=True)\n",
    "\n",
    "# Display dataset structure after conversion\n",
    "ufc_df.info()"
   ]
  },
  {
   "cell_type": "code",
   "execution_count": 20,
   "metadata": {},
   "outputs": [],
   "source": [
    "# Fill Missing `FinishRoundTimeSecs` Using Median of Similar Fights\n",
    "ufc_df = ufc_df.copy()  # Avoid SettingWithCopyWarning\n",
    "ufc_df.loc[:, \"FinishRoundTimeSecs\"] = ufc_df.groupby(\n",
    "    [\"WeightClass\", \"Finish\"], group_keys=False\n",
    ")[\"FinishRoundTimeSecs\"].apply(lambda x: x.fillna(x.median()))\n",
    "\n",
    "# Fill Remaining Missing Values with Overall Median\n",
    "overall_median_time = ufc_df[\"FinishRoundTimeSecs\"].median()\n",
    "ufc_df.loc[:, \"FinishRoundTimeSecs\"] = ufc_df[\"FinishRoundTimeSecs\"].fillna(\n",
    "    overall_median_time\n",
    ")\n"
   ]
  },
  {
   "cell_type": "code",
   "execution_count": 21,
   "metadata": {},
   "outputs": [],
   "source": [
    "# check for mixed type columns\n",
    "\n",
    "for col in ufc_df.columns.tolist():\n",
    "    weird = (ufc_df[[col]].map(type) != ufc_df[[col]].iloc[0].apply(type)).any(axis=1)\n",
    "    if len(ufc_df[weird]) > 0:\n",
    "        print(col)"
   ]
  },
  {
   "cell_type": "code",
   "execution_count": 22,
   "metadata": {},
   "outputs": [
    {
     "data": {
      "text/plain": [
       "Finish                   0\n",
       "FinishDetails            0\n",
       "TotalFightTimeSecs       0\n",
       "FinishRound              0\n",
       "RedFighter               0\n",
       "BlueFighter              0\n",
       "Gender                   0\n",
       "WeightClass              0\n",
       "RedReachCms              0\n",
       "BlueReachCms             0\n",
       "RedHeightCms             0\n",
       "BlueHeightCms            0\n",
       "RedWeightLbs             0\n",
       "BlueWeightLbs            0\n",
       "RedTotalTitleBouts       0\n",
       "BlueTotalTitleBouts      0\n",
       "RedStance                0\n",
       "BlueStance               0\n",
       "RedAge                   0\n",
       "BlueAge                  0\n",
       "RedCurrentWinStreak      0\n",
       "BlueCurrentWinStreak     0\n",
       "RedCurrentLoseStreak     0\n",
       "BlueCurrentLoseStreak    0\n",
       "RedWins                  0\n",
       "BlueWins                 0\n",
       "RedLosses                0\n",
       "BlueLosses               0\n",
       "RedDraws                 0\n",
       "BlueDraws                0\n",
       "RedWinsByKO              0\n",
       "BlueWinsByKO             0\n",
       "RedWinsBySubmission      0\n",
       "BlueWinsBySubmission     0\n",
       "RedAvgSigStrLanded       0\n",
       "BlueAvgSigStrLanded      0\n",
       "RedAvgSigStrPct          0\n",
       "BlueAvgSigStrPct         0\n",
       "RedAvgTDLanded           0\n",
       "BlueAvgTDLanded          0\n",
       "RedAvgTDPct              0\n",
       "BlueAvgTDPct             0\n",
       "RedAvgSubAtt             0\n",
       "BlueAvgSubAtt            0\n",
       "RedOdds                  0\n",
       "BlueOdds                 0\n",
       "Winner                   0\n",
       "Date                     0\n",
       "Location                 0\n",
       "Country                  0\n",
       "TitleBout                0\n",
       "NumberOfRounds           0\n",
       "EmptyArena               0\n",
       "FinishRoundTimeSecs      0\n",
       "dtype: int64"
      ]
     },
     "execution_count": 22,
     "metadata": {},
     "output_type": "execute_result"
    }
   ],
   "source": [
    "# check for missing values\n",
    "missing_values_summary = ufc_df.isnull().sum()\n",
    "\n",
    "# show missing values\n",
    "missing_values_summary"
   ]
  },
  {
   "cell_type": "code",
   "execution_count": 23,
   "metadata": {},
   "outputs": [],
   "source": [
    "# export the cleaned data\n",
    "ufc_df.to_csv(\n",
    "    os.path.join(path, \"02 Data\", \"Prepared Data\", \"ufc_cleaned.csv\"), index=False\n",
    ")"
   ]
  },
  {
   "cell_type": "code",
   "execution_count": null,
   "metadata": {},
   "outputs": [],
   "source": []
  }
 ],
 "metadata": {
  "kernelspec": {
   "display_name": "base",
   "language": "python",
   "name": "python3"
  },
  "language_info": {
   "codemirror_mode": {
    "name": "ipython",
    "version": 3
   },
   "file_extension": ".py",
   "mimetype": "text/x-python",
   "name": "python",
   "nbconvert_exporter": "python",
   "pygments_lexer": "ipython3",
   "version": "3.12.3"
  }
 },
 "nbformat": 4,
 "nbformat_minor": 2
}
