{
 "cells": [
  {
   "cell_type": "markdown",
   "metadata": {},
   "source": [
    "# Merging GeoJSONS"
   ]
  },
  {
   "cell_type": "markdown",
   "metadata": {},
   "source": [
    "I need to have both global country level and US states to continue my analysis, so i'm choosing to merge 2 GeoJSONs i have found on Kettle: https://www.kaggle.com/datasets/chapagain/country-state-geo-location"
   ]
  },
  {
   "cell_type": "code",
   "execution_count": 1,
   "metadata": {},
   "outputs": [
    {
     "name": "stdout",
     "output_type": "stream",
     "text": [
      "<class 'dict'>\n",
      "<class 'dict'>\n",
      "dict_keys(['type', 'features'])\n",
      "dict_keys(['type', 'features'])\n"
     ]
    }
   ],
   "source": [
    "import os\n",
    "import json\n",
    "\n",
    "# path\n",
    "path = r\"D:\\0 - Data Analytics\\6 - Advanced Analytics & Dashboard Design\\UFC Analysis\"\n",
    "\n",
    "# jsons paths\n",
    "global_json_path = os.path.join(path, \"02 Data\", \"Original Data\", \"countries.geo.json\")\n",
    "us_json_path = os.path.join(path, \"02 Data\", \"Original Data\", \"us-states.json\")\n",
    "\n",
    "# Load the data\n",
    "with open(global_json_path) as f:\n",
    "    global_json = json.load(f)\n",
    "\n",
    "with open(us_json_path) as f:\n",
    "    us_json = json.load(f)\n",
    "\n",
    "# check the files\n",
    "print(type(global_json))\n",
    "print(type(us_json))\n",
    "\n",
    "# Check structure\n",
    "print(global_json.keys())\n",
    "print(us_json.keys())"
   ]
  },
  {
   "cell_type": "code",
   "execution_count": 2,
   "metadata": {},
   "outputs": [],
   "source": [
    "# I will need to merge the json to get both the US states and the countries\n",
    "\n",
    "# Create a new GeoJSON file that contains both the US states and the countries\n",
    "merged_geojson = {\"type\": \"FeatureCollection\", \"features\": []}\n",
    "\n",
    "# I will Add global countries except \"United States\"\n",
    "for feature in global_json[\"features\"]:\n",
    "    if feature[\"properties\"][\"name\"] != \"United States\":\n",
    "        merged_geojson[\"features\"].append(feature)\n",
    "\n",
    "# Add detailed U.S. states\n",
    "merged_geojson[\"features\"].extend(us_json[\"features\"])"
   ]
  },
  {
   "cell_type": "code",
   "execution_count": 3,
   "metadata": {},
   "outputs": [],
   "source": [
    "# save the new json\n",
    "with open(\n",
    "    os.path.join(path, \"02 Data\", \"Prepared Data\", \"merged_geojson.json\"), \"w\"\n",
    ") as f:\n",
    "    json.dump(merged_geojson, f)"
   ]
  },
  {
   "cell_type": "code",
   "execution_count": null,
   "metadata": {},
   "outputs": [],
   "source": []
  }
 ],
 "metadata": {
  "kernelspec": {
   "display_name": "base",
   "language": "python",
   "name": "python3"
  },
  "language_info": {
   "codemirror_mode": {
    "name": "ipython",
    "version": 3
   },
   "file_extension": ".py",
   "mimetype": "text/x-python",
   "name": "python",
   "nbconvert_exporter": "python",
   "pygments_lexer": "ipython3",
   "version": "3.12.3"
  }
 },
 "nbformat": 4,
 "nbformat_minor": 2
}
